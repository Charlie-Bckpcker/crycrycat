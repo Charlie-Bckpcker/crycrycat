{
 "cells": [
  {
   "cell_type": "code",
   "execution_count": 1,
   "metadata": {},
   "outputs": [
    {
     "name": "stdout",
     "output_type": "stream",
     "text": [
      "[1] All Uppercase.\n",
      "[2] All Lowercase.\n",
      "[3] Random Case.\n",
      "> 3\n",
      "Your word: Before the discovery of quantum effects and other challenges to Newtonian physics, \"uncertainty\" was always a term that applied to the accuracy of human knowledge about causes and effects, and not to the causes and effects themselves.\n",
      "BEFORe THE dIscovERy of qUANtUM efFEcTS And OtHER cHALlEnges tO newToniAn phYSics, \"uncerTAInTy\" was ALWAys a tERm thAt appLIed To The aCcURACy oF HuMAN KnowLEdgE AbOUt Causes and EfFects, aND not to tHe caUSeS AND effEcTs THEmsElVes.\n"
     ]
    }
   ],
   "source": [
    "import random\n",
    "\n",
    "print('[1] All Uppercase.')\n",
    "print('[2] All Lowercase.')\n",
    "print('[3] Random Case.')\n",
    "choice = int(input('> '))\n",
    "s = input('Your word: ')\n",
    "\n",
    "if choice == 1:\n",
    "\tprint(s.upper())\n",
    "elif choice == 2:\n",
    "\tprint(s.lower())\n",
    "elif choice == 3:\n",
    "\tres = ''\n",
    "\tfor ss in s:\n",
    "\t\tif random.random() > 0.5:\n",
    "\t\t\tres += ss.lower()\n",
    "\t\telse:\n",
    "\t\t\tres += ss.upper()\n",
    "\tprint(res)"
   ]
  },
  {
   "cell_type": "code",
   "execution_count": null,
   "metadata": {},
   "outputs": [],
   "source": []
  }
 ],
 "metadata": {
  "kernelspec": {
   "display_name": "Python 3",
   "language": "python",
   "name": "python3"
  },
  "language_info": {
   "codemirror_mode": {
    "name": "ipython",
    "version": 3
   },
   "file_extension": ".py",
   "mimetype": "text/x-python",
   "name": "python",
   "nbconvert_exporter": "python",
   "pygments_lexer": "ipython3",
   "version": "3.7.3"
  }
 },
 "nbformat": 4,
 "nbformat_minor": 2
}
